{
 "cells": [
  {
   "cell_type": "markdown",
   "metadata": {},
   "source": [
    "# Evaluating the Predictive Capabilities of \"Predictive Testing\"\n",
    "## Predicting NCLEX Success for Nursing Students\n",
    "Author: Alexander Stachniak"
   ]
  },
  {
   "cell_type": "markdown",
   "metadata": {},
   "source": [
    "# Table of Contents\n",
    "* [Executive Summary](#Executive-Summary)\n",
    "* [Background](#Background)\n",
    "* [Data Preparation Stage](https://github.com/zstachniak/Predictive-Testing/blob/master/Predictive%20Testing%20-%20Data%20Preparation%20Stage.ipynb)\n",
    "* [Model Building and Analysis](https://github.com/zstachniak/Predictive-Testing/blob/master/Predictive%20Testing%20-%20Model%20Building%20and%20Analysis.ipynb)\n",
    "* [Probability Boundary Score](https://github.com/zstachniak/Predictive-Testing/blob/master/Predictive%20Testing%20-%20Probability%20Boundary%20Score.ipynb)\n",
    "* [Model Results](#Model-Results)\n",
    "* [Conclusions](#Conclusions)"
   ]
  },
  {
   "cell_type": "markdown",
   "metadata": {},
   "source": [
    "# Executive Summary"
   ]
  },
  {
   "cell_type": "markdown",
   "metadata": {},
   "source": [
    "### Project Goals\n",
    "* To determine whether a predictive testing product can accurately predict individual student pass rates on the NCLEX.\n",
    "* The analysis is conducted from the perspective of the nursing school, which is interested in providing remediation to students who are predicted as likely to fail the NCLEX post-graduation. \n",
    "* This specific business case requires that we look at the predictive capabilities of predictive testing on a term by term basis. In other words, it is not enough to be able to predict NCLEX success after a student has already graduated; by then it is too late. "
   ]
  },
  {
   "cell_type": "markdown",
   "metadata": {},
   "source": [
    "### Summary of Conclusions\n",
    "* Predictive testing has predictive power.\n",
    "* However, predictive testing is not significantly more predictive than using traditional grades data.\n",
    "* In a production environment, educators would likely be willing to use this product, especially since confidence in predictions improve over the term of the student."
   ]
  },
  {
   "cell_type": "markdown",
   "metadata": {},
   "source": [
    "# Background\n",
    "Some background knowledge will help in understanding the analysis that follows. Nursing, as a profession, is based on a licensure model where professionals must earn certification to practice through an examination known as the National Council Licensure Examination, or NCLEX. Eligibility to take the NCLEX depends on successful completion of an accredited nursing degree program, making nursing schools a necessary gateway for any student interested in becoming a nurse.\n",
    "\n",
    "The NCLEX uses Computerized Adaptive Testing (CAT), which displays questions to candidates in a way that attempts to understand each candidate's ability while using as few questions as possible. A standard exam requires all candidates to answer the same questions, while CAT attempts to always display questions that a candidate should find challenging (based on his or her ability). The NCLEX itself is a predictive exam.\n",
    "\n",
    "But how can the creators of the NCLEX know how challenging each question is? The answer is that questions must be tested and validated ahead of time across a wide sample of respondents. In other words, difficulty is based upon a national mean. In addition to the difficult of questions being based upon a national mean, the actual decision boundary is based, at least partially, on past NCLEX results, sample test-takers, and education readiness of high-school graduates interested in nursing. All of these are related to a national mean.\n",
    "\n",
    "The reliance of the NCLEX upon national mean scores suggests that candidate success may be predictable. After all, if one could compare a current student to his or her peers across similar categories as are tested in the NCLEX, one might be able to predict future success or failure on the NCLEX. Struggling students could then be targeted for remediation, an essential goal in education. Of course, vendors backed by all the major textbook and test-prep companies have entered this marketplace to provide such a predictive testing product (the exception is Pearson, the testing vendor for the NCLEX itself, as providing such a tool would be considered a conflict of interest).\n",
    "\n",
    "Nursing schools spend a significant amount of money on predictive testing products each year. Aside from a natural desire to provide struggling students with remediation, schools also must maintain high pass rates for self-preservation. Accrediting bodies enforce yearly pass rates above 80%, and high pass rates are a boon for admission. All of which has led to an increased usage of predictive testing among nursing schools. The desire to move quickly into this field, however, has often outstripped the basic bureaucratic question corequisite of any monetary decision: is it worth the money?\n",
    "\n",
    "The basic question being asked in this analysis is, do predictive testing products work? Can we truly predict candidate success on the NCLEX?"
   ]
  },
  {
   "cell_type": "markdown",
   "metadata": {},
   "source": [
    "# Model Results"
   ]
  },
  {
   "cell_type": "markdown",
   "metadata": {},
   "source": [
    "Please note that the [Data Preparation Stage](https://github.com/zstachniak/Predictive-Testing/blob/master/Predictive%20Testing%20-%20Data%20Preparation%20Stage.ipynb) and [Model Building and Analysis](https://github.com/zstachniak/Predictive-Testing/blob/master/Predictive%20Testing%20-%20Model%20Building%20and%20Analysis.ipynb) stages can be found in external notebooks."
   ]
  },
  {
   "cell_type": "code",
   "execution_count": null,
   "metadata": {
    "collapsed": true
   },
   "outputs": [],
   "source": []
  },
  {
   "cell_type": "code",
   "execution_count": null,
   "metadata": {
    "collapsed": true
   },
   "outputs": [],
   "source": []
  },
  {
   "cell_type": "code",
   "execution_count": null,
   "metadata": {
    "collapsed": true
   },
   "outputs": [],
   "source": []
  },
  {
   "cell_type": "markdown",
   "metadata": {},
   "source": [
    "# Conclusions"
   ]
  },
  {
   "cell_type": "code",
   "execution_count": null,
   "metadata": {
    "collapsed": true
   },
   "outputs": [],
   "source": []
  },
  {
   "cell_type": "code",
   "execution_count": null,
   "metadata": {
    "collapsed": true
   },
   "outputs": [],
   "source": []
  },
  {
   "cell_type": "code",
   "execution_count": null,
   "metadata": {
    "collapsed": true
   },
   "outputs": [],
   "source": []
  }
 ],
 "metadata": {
  "kernelspec": {
   "display_name": "Python [default]",
   "language": "python",
   "name": "python3"
  },
  "language_info": {
   "codemirror_mode": {
    "name": "ipython",
    "version": 3
   },
   "file_extension": ".py",
   "mimetype": "text/x-python",
   "name": "python",
   "nbconvert_exporter": "python",
   "pygments_lexer": "ipython3",
   "version": "3.5.3"
  }
 },
 "nbformat": 4,
 "nbformat_minor": 2
}
